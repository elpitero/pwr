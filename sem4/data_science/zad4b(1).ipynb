{
  "nbformat": 4,
  "nbformat_minor": 0,
  "metadata": {
    "colab": {
      "name": "zad4b.ipynb",
      "provenance": []
    },
    "kernelspec": {
      "name": "python3",
      "display_name": "Python 3"
    },
    "language_info": {
      "name": "python"
    }
  },
  "cells": [
    {
      "cell_type": "markdown",
      "source": [
        "# Pobranie danych i import bibliotek\n"
      ],
      "metadata": {
        "id": "K7p_gt-YXn6E"
      }
    },
    {
      "cell_type": "code",
      "source": [
        "import pandas as pd\n",
        "import numpy as np\n",
        "import requests\n",
        "from bs4 import BeautifulSoup \n",
        "import matplotlib.pyplot as plt\n",
        "from scipy import stats"
      ],
      "metadata": {
        "id": "RZ8gs1X-XxPa"
      },
      "execution_count": 1,
      "outputs": []
    },
    {
      "cell_type": "markdown",
      "source": [
        "Poniższe fragmenty kodu są przekopiowane z pliku Zad2c+3d. Pobieram dane z wikipedii dotyczące bezrobocia w latach 2003-2021, a następnie liczę średnią stopę bezrobocia w danym roku. W dalszej części notatnika, będę badał czy te dane mają rozkład normalny"
      ],
      "metadata": {
        "id": "oLOYEml4X-Tn"
      }
    },
    {
      "cell_type": "code",
      "source": [
        "URL = \"https://pl.wikipedia.org/wiki/Demografia_Polski\"\n",
        "resp = requests.get(URL) \n",
        "if resp.status_code == 200:    # czy stronę udało się otworzyć?\n",
        "    soup = BeautifulSoup(resp.content,'html.parser')  # utowrzenie drzewa wyszukiwań\n",
        "    tab = soup.find_all('table',{'class':\"wikitable\"})   # ekstrakcja tabel z drzewa wyszukiwań\n",
        "\n",
        "for tag in soup.find_all(class_=\"reference\"): # usuwanie wikipediowych referencji\n",
        "    tag.decompose()"
      ],
      "metadata": {
        "id": "NGti9ps1X2-0"
      },
      "execution_count": 2,
      "outputs": []
    },
    {
      "cell_type": "code",
      "source": [
        "bezrobocie = pd.read_html(str(tab[7]))[0]\n",
        "bezrobocie.set_index('Rok', inplace=True)\n",
        "bezrobocie = bezrobocie.astype(float)\n",
        "bezrobocie = bezrobocie / 10"
      ],
      "metadata": {
        "id": "5vnDkl_qYMhc"
      },
      "execution_count": 3,
      "outputs": []
    },
    {
      "cell_type": "code",
      "source": [
        "bezrobocie['Średnia'] = bezrobocie.mean(axis=1)\n",
        "bezrobocie_srednia = bezrobocie['Średnia'].to_frame()\n",
        "\n",
        "bezrobocie_srednia = bezrobocie_srednia.round(2)\n",
        "\n",
        "display(bezrobocie_srednia)"
      ],
      "metadata": {
        "colab": {
          "base_uri": "https://localhost:8080/",
          "height": 677
        },
        "id": "GsoMfN-4YTuf",
        "outputId": "1523140c-296b-4c27-829b-e51f3745799f"
      },
      "execution_count": 4,
      "outputs": [
        {
          "output_type": "display_data",
          "data": {
            "text/plain": [
              "      Średnia\n",
              "Rok          \n",
              "2021     5.96\n",
              "2020     5.92\n",
              "2019     5.43\n",
              "2018     6.07\n",
              "2017     7.27\n",
              "2016     8.94\n",
              "2015    10.48\n",
              "2014    12.32\n",
              "2013    13.53\n",
              "2012    12.80\n",
              "2011    12.39\n",
              "2010    12.11\n",
              "2009    10.97\n",
              "2008     9.82\n",
              "2007    12.69\n",
              "2006    16.15\n",
              "2005    18.19\n",
              "2004    19.51\n",
              "2003    19.92"
            ],
            "text/html": [
              "\n",
              "  <div id=\"df-c4aa3526-4222-4fae-991d-9a34759ae735\">\n",
              "    <div class=\"colab-df-container\">\n",
              "      <div>\n",
              "<style scoped>\n",
              "    .dataframe tbody tr th:only-of-type {\n",
              "        vertical-align: middle;\n",
              "    }\n",
              "\n",
              "    .dataframe tbody tr th {\n",
              "        vertical-align: top;\n",
              "    }\n",
              "\n",
              "    .dataframe thead th {\n",
              "        text-align: right;\n",
              "    }\n",
              "</style>\n",
              "<table border=\"1\" class=\"dataframe\">\n",
              "  <thead>\n",
              "    <tr style=\"text-align: right;\">\n",
              "      <th></th>\n",
              "      <th>Średnia</th>\n",
              "    </tr>\n",
              "    <tr>\n",
              "      <th>Rok</th>\n",
              "      <th></th>\n",
              "    </tr>\n",
              "  </thead>\n",
              "  <tbody>\n",
              "    <tr>\n",
              "      <th>2021</th>\n",
              "      <td>5.96</td>\n",
              "    </tr>\n",
              "    <tr>\n",
              "      <th>2020</th>\n",
              "      <td>5.92</td>\n",
              "    </tr>\n",
              "    <tr>\n",
              "      <th>2019</th>\n",
              "      <td>5.43</td>\n",
              "    </tr>\n",
              "    <tr>\n",
              "      <th>2018</th>\n",
              "      <td>6.07</td>\n",
              "    </tr>\n",
              "    <tr>\n",
              "      <th>2017</th>\n",
              "      <td>7.27</td>\n",
              "    </tr>\n",
              "    <tr>\n",
              "      <th>2016</th>\n",
              "      <td>8.94</td>\n",
              "    </tr>\n",
              "    <tr>\n",
              "      <th>2015</th>\n",
              "      <td>10.48</td>\n",
              "    </tr>\n",
              "    <tr>\n",
              "      <th>2014</th>\n",
              "      <td>12.32</td>\n",
              "    </tr>\n",
              "    <tr>\n",
              "      <th>2013</th>\n",
              "      <td>13.53</td>\n",
              "    </tr>\n",
              "    <tr>\n",
              "      <th>2012</th>\n",
              "      <td>12.80</td>\n",
              "    </tr>\n",
              "    <tr>\n",
              "      <th>2011</th>\n",
              "      <td>12.39</td>\n",
              "    </tr>\n",
              "    <tr>\n",
              "      <th>2010</th>\n",
              "      <td>12.11</td>\n",
              "    </tr>\n",
              "    <tr>\n",
              "      <th>2009</th>\n",
              "      <td>10.97</td>\n",
              "    </tr>\n",
              "    <tr>\n",
              "      <th>2008</th>\n",
              "      <td>9.82</td>\n",
              "    </tr>\n",
              "    <tr>\n",
              "      <th>2007</th>\n",
              "      <td>12.69</td>\n",
              "    </tr>\n",
              "    <tr>\n",
              "      <th>2006</th>\n",
              "      <td>16.15</td>\n",
              "    </tr>\n",
              "    <tr>\n",
              "      <th>2005</th>\n",
              "      <td>18.19</td>\n",
              "    </tr>\n",
              "    <tr>\n",
              "      <th>2004</th>\n",
              "      <td>19.51</td>\n",
              "    </tr>\n",
              "    <tr>\n",
              "      <th>2003</th>\n",
              "      <td>19.92</td>\n",
              "    </tr>\n",
              "  </tbody>\n",
              "</table>\n",
              "</div>\n",
              "      <button class=\"colab-df-convert\" onclick=\"convertToInteractive('df-c4aa3526-4222-4fae-991d-9a34759ae735')\"\n",
              "              title=\"Convert this dataframe to an interactive table.\"\n",
              "              style=\"display:none;\">\n",
              "        \n",
              "  <svg xmlns=\"http://www.w3.org/2000/svg\" height=\"24px\"viewBox=\"0 0 24 24\"\n",
              "       width=\"24px\">\n",
              "    <path d=\"M0 0h24v24H0V0z\" fill=\"none\"/>\n",
              "    <path d=\"M18.56 5.44l.94 2.06.94-2.06 2.06-.94-2.06-.94-.94-2.06-.94 2.06-2.06.94zm-11 1L8.5 8.5l.94-2.06 2.06-.94-2.06-.94L8.5 2.5l-.94 2.06-2.06.94zm10 10l.94 2.06.94-2.06 2.06-.94-2.06-.94-.94-2.06-.94 2.06-2.06.94z\"/><path d=\"M17.41 7.96l-1.37-1.37c-.4-.4-.92-.59-1.43-.59-.52 0-1.04.2-1.43.59L10.3 9.45l-7.72 7.72c-.78.78-.78 2.05 0 2.83L4 21.41c.39.39.9.59 1.41.59.51 0 1.02-.2 1.41-.59l7.78-7.78 2.81-2.81c.8-.78.8-2.07 0-2.86zM5.41 20L4 18.59l7.72-7.72 1.47 1.35L5.41 20z\"/>\n",
              "  </svg>\n",
              "      </button>\n",
              "      \n",
              "  <style>\n",
              "    .colab-df-container {\n",
              "      display:flex;\n",
              "      flex-wrap:wrap;\n",
              "      gap: 12px;\n",
              "    }\n",
              "\n",
              "    .colab-df-convert {\n",
              "      background-color: #E8F0FE;\n",
              "      border: none;\n",
              "      border-radius: 50%;\n",
              "      cursor: pointer;\n",
              "      display: none;\n",
              "      fill: #1967D2;\n",
              "      height: 32px;\n",
              "      padding: 0 0 0 0;\n",
              "      width: 32px;\n",
              "    }\n",
              "\n",
              "    .colab-df-convert:hover {\n",
              "      background-color: #E2EBFA;\n",
              "      box-shadow: 0px 1px 2px rgba(60, 64, 67, 0.3), 0px 1px 3px 1px rgba(60, 64, 67, 0.15);\n",
              "      fill: #174EA6;\n",
              "    }\n",
              "\n",
              "    [theme=dark] .colab-df-convert {\n",
              "      background-color: #3B4455;\n",
              "      fill: #D2E3FC;\n",
              "    }\n",
              "\n",
              "    [theme=dark] .colab-df-convert:hover {\n",
              "      background-color: #434B5C;\n",
              "      box-shadow: 0px 1px 3px 1px rgba(0, 0, 0, 0.15);\n",
              "      filter: drop-shadow(0px 1px 2px rgba(0, 0, 0, 0.3));\n",
              "      fill: #FFFFFF;\n",
              "    }\n",
              "  </style>\n",
              "\n",
              "      <script>\n",
              "        const buttonEl =\n",
              "          document.querySelector('#df-c4aa3526-4222-4fae-991d-9a34759ae735 button.colab-df-convert');\n",
              "        buttonEl.style.display =\n",
              "          google.colab.kernel.accessAllowed ? 'block' : 'none';\n",
              "\n",
              "        async function convertToInteractive(key) {\n",
              "          const element = document.querySelector('#df-c4aa3526-4222-4fae-991d-9a34759ae735');\n",
              "          const dataTable =\n",
              "            await google.colab.kernel.invokeFunction('convertToInteractive',\n",
              "                                                     [key], {});\n",
              "          if (!dataTable) return;\n",
              "\n",
              "          const docLinkHtml = 'Like what you see? Visit the ' +\n",
              "            '<a target=\"_blank\" href=https://colab.research.google.com/notebooks/data_table.ipynb>data table notebook</a>'\n",
              "            + ' to learn more about interactive tables.';\n",
              "          element.innerHTML = '';\n",
              "          dataTable['output_type'] = 'display_data';\n",
              "          await google.colab.output.renderOutput(dataTable, element);\n",
              "          const docLink = document.createElement('div');\n",
              "          docLink.innerHTML = docLinkHtml;\n",
              "          element.appendChild(docLink);\n",
              "        }\n",
              "      </script>\n",
              "    </div>\n",
              "  </div>\n",
              "  "
            ]
          },
          "metadata": {}
        }
      ]
    },
    {
      "cell_type": "markdown",
      "source": [
        "# Zad 4B"
      ],
      "metadata": {
        "id": "ULcvtXQmYqgx"
      }
    },
    {
      "cell_type": "markdown",
      "source": [
        "Zbadam średnie bezrobocie w polsce do opisu rozkładem normalnym"
      ],
      "metadata": {
        "id": "l_ckZH0MYuei"
      }
    },
    {
      "cell_type": "code",
      "source": [
        "X = bezrobocie_srednia['Średnia'].values"
      ],
      "metadata": {
        "id": "iwVfRWM6ZoP9"
      },
      "execution_count": 5,
      "outputs": []
    },
    {
      "cell_type": "markdown",
      "source": [
        "Funkcja rozkładu normalnego:"
      ],
      "metadata": {
        "id": "n1UHPS1hZ3Qy"
      }
    },
    {
      "cell_type": "code",
      "source": [
        "def rozklad_norm(parametry, x):\n",
        "    mu, sigma = parametry\n",
        "    return np.exp(-(x-mu)**2/(2*sigma**2))/(sigma*np.sqrt(2*np.pi))"
      ],
      "metadata": {
        "id": "B3B9bwxmZ65k"
      },
      "execution_count": 6,
      "outputs": []
    },
    {
      "cell_type": "markdown",
      "source": [
        "Badając czy dane mają rozkład normalny przyjmujemy hipotezę H_0: \"Dane mają rozkład normalny\", oraz hipotezę H_1: \"Dane nie mają rozkładu normalnego\". Jeśli z testu otrzymamy p-wartość mniejszą niż 0.05 należy odrzucić hipotezę H_0."
      ],
      "metadata": {
        "id": "3SMm8YXMZMBO"
      }
    },
    {
      "cell_type": "markdown",
      "source": [
        "Test Shapiro:"
      ],
      "metadata": {
        "id": "4Z0wj6OBaT7Q"
      }
    },
    {
      "cell_type": "code",
      "source": [
        "print(f'test Shapiro, p-wartość = {stats.shapiro(X)[1]}')"
      ],
      "metadata": {
        "colab": {
          "base_uri": "https://localhost:8080/"
        },
        "id": "ev7pIPKMaeHB",
        "outputId": "dea039e8-84d0-41b2-9e92-a85a8399328d"
      },
      "execution_count": 7,
      "outputs": [
        {
          "output_type": "stream",
          "name": "stdout",
          "text": [
            "test Shapiro, p-wartość = 0.198216512799263\n"
          ]
        }
      ]
    },
    {
      "cell_type": "markdown",
      "source": [
        "P-wartość jest większa od 0.05 zatem nie mamy podstaw do odrzucania hipotezy o rozkładzie normalnym danych."
      ],
      "metadata": {
        "id": "WH2CaJyycgdl"
      }
    },
    {
      "cell_type": "markdown",
      "source": [
        "Test d'Agostino:"
      ],
      "metadata": {
        "id": "NdUu6oYbc0So"
      }
    },
    {
      "cell_type": "code",
      "source": [
        "print(f'test D’Agostino i Pearsona, p-wartość = {stats.normaltest(X)[1]}\\n')"
      ],
      "metadata": {
        "colab": {
          "base_uri": "https://localhost:8080/"
        },
        "id": "YGd7E9a5c52M",
        "outputId": "c031effa-7e0e-4f1d-eb78-9b225a43d010"
      },
      "execution_count": 8,
      "outputs": [
        {
          "output_type": "stream",
          "name": "stdout",
          "text": [
            "test D’Agostino i Pearsona, p-wartość = 0.6330922039302163\n",
            "\n"
          ]
        },
        {
          "output_type": "stream",
          "name": "stderr",
          "text": [
            "/usr/local/lib/python3.7/dist-packages/scipy/stats/stats.py:1535: UserWarning: kurtosistest only valid for n>=20 ... continuing anyway, n=19\n",
            "  \"anyway, n=%i\" % int(n))\n"
          ]
        }
      ]
    },
    {
      "cell_type": "markdown",
      "source": [
        "P-wartość jest większa od 0.05 zatem nie mamy podstaw do odrzucania hipotezy o rozkładzie normalnym danych."
      ],
      "metadata": {
        "id": "4llqKhqhd2MB"
      }
    },
    {
      "cell_type": "markdown",
      "source": [
        "Jako, że testy nie odrzuciły hipotez, możemy przejść do wyznaczenia współczynników mu i sigma"
      ],
      "metadata": {
        "id": "jL9AwtwCd4vs"
      }
    },
    {
      "cell_type": "code",
      "source": [
        "mu, sigma= X.mean(), X.std()\n",
        "print(f'mu = {mu}\\nsigma = {sigma}')"
      ],
      "metadata": {
        "colab": {
          "base_uri": "https://localhost:8080/"
        },
        "id": "b1ZvcvV2eRB2",
        "outputId": "45d3d898-9e3c-46e9-980c-219b0bd224fc"
      },
      "execution_count": 9,
      "outputs": [
        {
          "output_type": "stream",
          "name": "stdout",
          "text": [
            "mu = 11.603684210526314\n",
            "sigma = 4.395227328443668\n"
          ]
        }
      ]
    },
    {
      "cell_type": "markdown",
      "source": [
        "Oraz do ilustracji danych oraz modelu na wykresie"
      ],
      "metadata": {
        "id": "JTm5VBg-es-H"
      }
    },
    {
      "cell_type": "code",
      "source": [
        "os_x = np.linspace(X.min()-10, X.max()+10, num=300)\n",
        "os_y = rozklad_norm([mu, sigma], os_x)\n",
        "\n",
        "with plt.style.context('seaborn'):  \n",
        "    plt.figure(figsize=(9,4))\n",
        "    plt.plot(X, np.zeros_like(X), 'P', \n",
        "             markersize=10, alpha=0.5, markerfacecolor='tab:blue', markeredgecolor='tab:blue', \n",
        "             label='średnie bezrobocie')\n",
        "    plt.plot(os_x, 25*os_y, color='tab:blue')\n",
        "    plt.xlabel('model rozkładu normalnego średniego bezrobocia', fontsize=16)\n",
        "    plt.yticks([])\n",
        "\n",
        "plt.legend(shadow=True, fontsize=12)\n",
        "plt.show()"
      ],
      "metadata": {
        "colab": {
          "base_uri": "https://localhost:8080/",
          "height": 285
        },
        "id": "QQzSruaOev9X",
        "outputId": "397cc8b5-2eb4-4b56-cdeb-a9cd9e82a851"
      },
      "execution_count": 12,
      "outputs": [
        {
          "output_type": "display_data",
          "data": {
            "text/plain": [
              "<Figure size 648x288 with 1 Axes>"
            ],
            "image/png": "[encoded data removed]"
          },
          "metadata": {}
        }
      ]
    }
  ]
}